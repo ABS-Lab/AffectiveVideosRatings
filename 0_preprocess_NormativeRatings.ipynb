{
 "cells": [
  {
   "cell_type": "markdown",
   "metadata": {},
   "source": [
    "# Calculate normative ratings per video:\n",
    "\n",
    "*Yiyu Wang 2019*"
   ]
  },
  {
   "cell_type": "code",
   "execution_count": null,
   "metadata": {},
   "outputs": [],
   "source": [
    "import os, sys\n",
    "import glob\n",
    "import nibabel as nib\n",
    "import numpy as np\n",
    "import pandas as pd\n",
    "from nltools.data import Brain_Data\n",
    "from nilearn.datasets.utils import _fetch_file\n",
    "import matplotlib.pyplot as plt\n",
    "import seaborn as sns\n",
    "import statsmodels.api as sm\n"
   ]
  },
  {
   "cell_type": "code",
   "execution_count": 3,
   "metadata": {},
   "outputs": [],
   "source": [
    "data_dir ='/work/abslab/Yiyu/AffVids_online/BehavData/processed'\n",
    "video_data1 = glob.glob(data_dir +'/video_df_set1.csv')\n",
    "vdf1 = pd.read_csv(video_data1[0])\n",
    "\n",
    "video_data2 = glob.glob(data_dir +'/video_df_set2.csv')\n",
    "vdf2 = pd.read_csv(video_data2[0])\n",
    "\n",
    "video_data3 = glob.glob(data_dir +'/video_df_set3.csv')\n",
    "vdf3 = pd.read_csv(video_data3[0])\n",
    "\n"
   ]
  },
  {
   "cell_type": "code",
   "execution_count": 4,
   "metadata": {},
   "outputs": [],
   "source": [
    "vdf2 = vdf2.drop([\"Anxiety\", \"ExpectedFear\",\"how_distant_present\"],axis=1)\n",
    "vdf1 = vdf1.drop(\"how_present_distant\",axis=1)\n",
    "vdf2.video_num=vdf2.video_num +36\n",
    "vdf2.how_aroused = vdf2.how_aroused/10\n",
    "vdf2.how_fearful = vdf2.how_fearful/10\n",
    "vdf2.how_pleasant = vdf2.how_pleasant/10"
   ]
  },
  {
   "cell_type": "code",
   "execution_count": null,
   "metadata": {},
   "outputs": [],
   "source": [
    "vdf3 = vdf3.drop([\"Anxiety\", \"ExpectedFear\",\"how_distant_present\"],axis=1)\n",
    "\n",
    "vdf3.video_num=vdf3.video_num +36\n",
    "vdf3.how_aroused = vdf3.how_aroused/10\n",
    "vdf3.how_fearful = vdf3.how_fearful/10\n",
    "vdf3.how_pleasant = vdf3.how_pleasant/10"
   ]
  },
  {
   "cell_type": "code",
   "execution_count": 34,
   "metadata": {},
   "outputs": [],
   "source": [
    "vdf = pd.concat([vdf1,vdf2,vdf3])"
   ]
  },
  {
   "cell_type": "code",
   "execution_count": 40,
   "metadata": {},
   "outputs": [],
   "source": [
    "avg_df = vdf.copy().drop(columns=['Subject','video_intens','video_cats'])\n",
    "mean_df = avg_df.groupby('video_num').mean()\n",
    "std_df = avg_df.groupby('video_num').std()\n",
    "sem_df = avg_df.groupby('video_num').sem()\n",
    "group_df = pd.concat([mean_df, sem_df, std_df],axis=1).reset_index()\n",
    "    \n",
    "\n",
    "column_list = [\"video_num\", \"Arousal\",\"Fear\",\"Valence\",\n",
    "               \"semArousal\",\"semFear\",\"semValence\",\n",
    "              \"stdArousal\",\"stdFear\",\"stdValence\"]\n",
    "group_dr.columns = column_list\n",
    "\n"
   ]
  },
  {
   "cell_type": "code",
   "execution_count": 42,
   "metadata": {},
   "outputs": [],
   "source": [
    "group_dr.to_csv('normative_ratings.csv')"
   ]
  },
  {
   "cell_type": "code",
   "execution_count": null,
   "metadata": {},
   "outputs": [],
   "source": []
  }
 ],
 "metadata": {
  "kernelspec": {
   "display_name": "Python 3",
   "language": "python",
   "name": "python3"
  },
  "language_info": {
   "codemirror_mode": {
    "name": "ipython",
    "version": 3
   },
   "file_extension": ".py",
   "mimetype": "text/x-python",
   "name": "python",
   "nbconvert_exporter": "python",
   "pygments_lexer": "ipython3",
   "version": "3.6.13"
  }
 },
 "nbformat": 4,
 "nbformat_minor": 4
}
