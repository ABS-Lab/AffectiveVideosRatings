{
 "cells": [
  {
   "cell_type": "markdown",
   "metadata": {},
   "source": [
    "# 1. Behavioral data checks:\n",
    "\n",
    "Getting descriptive stats for the normative ratings for vidoes in df_set1.\n",
    "\n",
    "\n",
    "This is for the manuscript \"Wang. Y., Kragel, P.A., Satpute, A.B. (preprint) Neural predictors of subjective fear depend on the situation. 2022\"\n",
    "\n",
    "*Yiyu Wang 2022/09*"
   ]
  },
  {
   "cell_type": "code",
   "execution_count": null,
   "metadata": {},
   "outputs": [],
   "source": [
    "import os\n",
    "import glob\n",
    "import nibabel as nib\n",
    "import numpy as np\n",
    "import pandas as pd\n",
    "import seaborn as sns\n",
    "import matplotlib.pyplot as plt"
   ]
  },
  {
   "cell_type": "code",
   "execution_count": 2,
   "metadata": {},
   "outputs": [],
   "source": [
    "base_dir = '/work/abslab/Yiyu/AffVids/'\n",
    "# set up directories\n",
    "behavdata_dir =  base_dir +'BehavData/'\n",
    "category = ['Heights','Social','Spider']"
   ]
  },
  {
   "cell_type": "code",
   "execution_count": 3,
   "metadata": {},
   "outputs": [
    {
     "data": {
      "text/html": [
       "<div>\n",
       "<style scoped>\n",
       "    .dataframe tbody tr th:only-of-type {\n",
       "        vertical-align: middle;\n",
       "    }\n",
       "\n",
       "    .dataframe tbody tr th {\n",
       "        vertical-align: top;\n",
       "    }\n",
       "\n",
       "    .dataframe thead th {\n",
       "        text-align: right;\n",
       "    }\n",
       "</style>\n",
       "<table border=\"1\" class=\"dataframe\">\n",
       "  <thead>\n",
       "    <tr style=\"text-align: right;\">\n",
       "      <th></th>\n",
       "      <th>video_cats</th>\n",
       "      <th>video_intense</th>\n",
       "      <th>video_num</th>\n",
       "      <th>Subject</th>\n",
       "      <th>how_aroused</th>\n",
       "      <th>how_fearful</th>\n",
       "      <th>how_pleasant</th>\n",
       "      <th>how_present_distant</th>\n",
       "    </tr>\n",
       "  </thead>\n",
       "  <tbody>\n",
       "    <tr>\n",
       "      <th>0</th>\n",
       "      <td>Heights</td>\n",
       "      <td>High</td>\n",
       "      <td>1</td>\n",
       "      <td>R_02hovykUguDYNvX</td>\n",
       "      <td>7</td>\n",
       "      <td>7</td>\n",
       "      <td>2</td>\n",
       "      <td>7</td>\n",
       "    </tr>\n",
       "    <tr>\n",
       "      <th>1</th>\n",
       "      <td>Heights</td>\n",
       "      <td>High</td>\n",
       "      <td>1</td>\n",
       "      <td>R_07LWbSNN2LeacH7</td>\n",
       "      <td>4</td>\n",
       "      <td>3</td>\n",
       "      <td>3</td>\n",
       "      <td>6</td>\n",
       "    </tr>\n",
       "    <tr>\n",
       "      <th>2</th>\n",
       "      <td>Heights</td>\n",
       "      <td>High</td>\n",
       "      <td>1</td>\n",
       "      <td>R_0D3jz5vAZzHLlRf</td>\n",
       "      <td>7</td>\n",
       "      <td>7</td>\n",
       "      <td>1</td>\n",
       "      <td>7</td>\n",
       "    </tr>\n",
       "    <tr>\n",
       "      <th>3</th>\n",
       "      <td>Heights</td>\n",
       "      <td>High</td>\n",
       "      <td>1</td>\n",
       "      <td>R_0U7Lx46Ea7gH93H</td>\n",
       "      <td>6</td>\n",
       "      <td>7</td>\n",
       "      <td>1</td>\n",
       "      <td>6</td>\n",
       "    </tr>\n",
       "    <tr>\n",
       "      <th>4</th>\n",
       "      <td>Heights</td>\n",
       "      <td>High</td>\n",
       "      <td>1</td>\n",
       "      <td>R_10PMBlLxTrAn3La</td>\n",
       "      <td>6</td>\n",
       "      <td>5</td>\n",
       "      <td>2</td>\n",
       "      <td>5</td>\n",
       "    </tr>\n",
       "    <tr>\n",
       "      <th>...</th>\n",
       "      <td>...</td>\n",
       "      <td>...</td>\n",
       "      <td>...</td>\n",
       "      <td>...</td>\n",
       "      <td>...</td>\n",
       "      <td>...</td>\n",
       "      <td>...</td>\n",
       "      <td>...</td>\n",
       "    </tr>\n",
       "    <tr>\n",
       "      <th>7267</th>\n",
       "      <td>Spider</td>\n",
       "      <td>Low</td>\n",
       "      <td>36</td>\n",
       "      <td>R_xEoU0dv89ZMyPsJ</td>\n",
       "      <td>5</td>\n",
       "      <td>2</td>\n",
       "      <td>3</td>\n",
       "      <td>5</td>\n",
       "    </tr>\n",
       "    <tr>\n",
       "      <th>7268</th>\n",
       "      <td>Spider</td>\n",
       "      <td>Low</td>\n",
       "      <td>36</td>\n",
       "      <td>R_XG3Wqt7gORf1m0N</td>\n",
       "      <td>6</td>\n",
       "      <td>1</td>\n",
       "      <td>5</td>\n",
       "      <td>2</td>\n",
       "    </tr>\n",
       "    <tr>\n",
       "      <th>7269</th>\n",
       "      <td>Spider</td>\n",
       "      <td>Low</td>\n",
       "      <td>36</td>\n",
       "      <td>R_z07IhJqI66Lr2Pn</td>\n",
       "      <td>1</td>\n",
       "      <td>4</td>\n",
       "      <td>1</td>\n",
       "      <td>4</td>\n",
       "    </tr>\n",
       "    <tr>\n",
       "      <th>7270</th>\n",
       "      <td>Spider</td>\n",
       "      <td>Low</td>\n",
       "      <td>36</td>\n",
       "      <td>R_ZahwvNyDxFOJ5AJ</td>\n",
       "      <td>5</td>\n",
       "      <td>2</td>\n",
       "      <td>5</td>\n",
       "      <td>5</td>\n",
       "    </tr>\n",
       "    <tr>\n",
       "      <th>7271</th>\n",
       "      <td>Spider</td>\n",
       "      <td>Low</td>\n",
       "      <td>36</td>\n",
       "      <td>R_ZHP1LqimCNldWtr</td>\n",
       "      <td>1</td>\n",
       "      <td>4</td>\n",
       "      <td>1</td>\n",
       "      <td>4</td>\n",
       "    </tr>\n",
       "  </tbody>\n",
       "</table>\n",
       "<p>7272 rows × 8 columns</p>\n",
       "</div>"
      ],
      "text/plain": [
       "     video_cats video_intense  video_num            Subject  how_aroused  \\\n",
       "0       Heights          High          1  R_02hovykUguDYNvX            7   \n",
       "1       Heights          High          1  R_07LWbSNN2LeacH7            4   \n",
       "2       Heights          High          1  R_0D3jz5vAZzHLlRf            7   \n",
       "3       Heights          High          1  R_0U7Lx46Ea7gH93H            6   \n",
       "4       Heights          High          1  R_10PMBlLxTrAn3La            6   \n",
       "...         ...           ...        ...                ...          ...   \n",
       "7267     Spider           Low         36  R_xEoU0dv89ZMyPsJ            5   \n",
       "7268     Spider           Low         36  R_XG3Wqt7gORf1m0N            6   \n",
       "7269     Spider           Low         36  R_z07IhJqI66Lr2Pn            1   \n",
       "7270     Spider           Low         36  R_ZahwvNyDxFOJ5AJ            5   \n",
       "7271     Spider           Low         36  R_ZHP1LqimCNldWtr            1   \n",
       "\n",
       "      how_fearful  how_pleasant  how_present_distant  \n",
       "0               7             2                    7  \n",
       "1               3             3                    6  \n",
       "2               7             1                    7  \n",
       "3               7             1                    6  \n",
       "4               5             2                    5  \n",
       "...           ...           ...                  ...  \n",
       "7267            2             3                    5  \n",
       "7268            1             5                    2  \n",
       "7269            4             1                    4  \n",
       "7270            2             5                    5  \n",
       "7271            4             1                    4  \n",
       "\n",
       "[7272 rows x 8 columns]"
      ]
     },
     "execution_count": 3,
     "metadata": {},
     "output_type": "execute_result"
    }
   ],
   "source": [
    "raw_df = pd.read_csv(behavdata_dir + 'video_df_set1.csv')\n",
    "raw_df"
   ]
  },
  {
   "cell_type": "code",
   "execution_count": 4,
   "metadata": {},
   "outputs": [],
   "source": [
    "n_sub = len(np.unique(raw_df.Subject))"
   ]
  },
  {
   "cell_type": "code",
   "execution_count": 18,
   "metadata": {},
   "outputs": [],
   "source": [
    "raw_df = pd.read_csv(behavdata_dir + 'video_df_set1.csv')\n",
    "raw_df['how_fearful'] = raw_df['how_fearful'].apply(lambda x: (x - 1)/6)\n",
    "group_df = raw_df.groupby('video_num').mean()\n",
    "fear = group_df['how_fearful']\n",
    "group_df = raw_df.groupby('video_num').std()\n",
    "fear_std =group_df['how_fearful']\n",
    "df = pd.DataFrame({\n",
    "    'fear':fear,\n",
    "    'fear_std':fear_std\n",
    "})\n",
    "df.reset_index(inplace=True)\n"
   ]
  },
  {
   "cell_type": "markdown",
   "metadata": {},
   "source": [
    "# Heights:"
   ]
  },
  {
   "cell_type": "code",
   "execution_count": 19,
   "metadata": {},
   "outputs": [
    {
     "data": {
      "image/png": "[encoded data removed]",
      "text/plain": [
       "<Figure size 432x288 with 1 Axes>"
      ]
     },
     "metadata": {
      "needs_background": "light"
     },
     "output_type": "display_data"
    },
    {
     "name": "stdout",
     "output_type": "stream",
     "text": [
      "max fear rating: 0.7640264026402638\n",
      "min fear rating: 0.043729372937293724\n",
      "mean fear rating: 0.40882838283828377\n",
      "sem fear rating: 0.2879247347751188\n"
     ]
    }
   ],
   "source": [
    "plot_df = df[df['video_num']<13]\n",
    "\n",
    "fear_ratings = np.sort(plot_df.fear)\n",
    "error = plot_df.fear_std\n",
    "x_pos = np.arange(len(fear_ratings))\n",
    "\n",
    "fig, ax = plt.subplots()\n",
    "ax.bar(x_pos,fear_ratings, yerr=error, align='center', alpha=0.5, ecolor='black', capsize=0, color='b')\n",
    "ax.set_ylabel('Fear ratings')\n",
    "ax.set_xticks(x_pos)\n",
    "ax.set_xticklabels(x_pos)\n",
    "ax.yaxis.grid(False)\n",
    "\n",
    "# Save the figure and show\n",
    "plt.tight_layout()\n",
    "# plt.savefig('bar_plot_with_error_bars.png')\n",
    "plt.show()\n",
    "\n",
    "\n",
    "print(f'max fear rating: {max(fear_ratings)}')\n",
    "print(f'min fear rating: {min(fear_ratings)}')\n",
    "print(f'mean fear rating: {np.mean(fear_ratings)}')\n",
    "print(f'sem fear rating: {np.std(fear_ratings)}')"
   ]
  },
  {
   "cell_type": "code",
   "execution_count": 20,
   "metadata": {},
   "outputs": [
    {
     "name": "stdout",
     "output_type": "stream",
     "text": [
      "max fear rating: 1.0\n",
      "min fear rating: 0.0\n",
      "mean fear rating: 0.4088283828382838\n",
      "sem fear rating: 0.3798147487589608\n"
     ]
    }
   ],
   "source": [
    "fear_ratings = raw_df[raw_df['video_num']<13]['how_fearful']\n",
    "print(f'max fear rating: {max(fear_ratings)}')\n",
    "print(f'min fear rating: {min(fear_ratings)}')\n",
    "print(f'mean fear rating: {np.mean(fear_ratings)}')\n",
    "print(f'sem fear rating: {np.std(fear_ratings)}')"
   ]
  },
  {
   "cell_type": "markdown",
   "metadata": {},
   "source": [
    "# Social"
   ]
  },
  {
   "cell_type": "code",
   "execution_count": 21,
   "metadata": {},
   "outputs": [
    {
     "data": {
      "image/png": "[encoded data removed]",
      "text/plain": [
       "<Figure size 432x288 with 1 Axes>"
      ]
     },
     "metadata": {
      "needs_background": "light"
     },
     "output_type": "display_data"
    },
    {
     "name": "stdout",
     "output_type": "stream",
     "text": [
      "max fear rating: 0.37953795379537947\n",
      "min fear rating: 0.030528052805280533\n",
      "mean fear rating: 0.15759075907590755\n",
      "sem fear rating: 0.11575453420253808\n"
     ]
    }
   ],
   "source": [
    "plot_df = df[(df['video_num']>13) & (df['video_num']<25)]\n",
    "\n",
    "fear_ratings = np.sort(plot_df.fear)\n",
    "error = plot_df.fear_std\n",
    "x_pos = np.arange(len(fear_ratings))\n",
    "\n",
    "fig, ax = plt.subplots()\n",
    "ax.bar(x_pos,fear_ratings, yerr=error, align='center', alpha=0.5, ecolor='black', capsize=0, color='b')\n",
    "ax.set_ylabel('Fear ratings')\n",
    "ax.set_xticks(x_pos)\n",
    "ax.set_xticklabels(x_pos)\n",
    "ax.yaxis.grid(False)\n",
    "\n",
    "# Save the figure and show\n",
    "plt.tight_layout()\n",
    "# plt.savefig('bar_plot_with_error_bars.png')\n",
    "plt.show()\n",
    "\n",
    "print(f'max fear rating: {max(fear_ratings)}')\n",
    "print(f'min fear rating: {min(fear_ratings)}')\n",
    "print(f'mean fear rating: {np.mean(fear_ratings)}')\n",
    "print(f'sem fear rating: {np.std(fear_ratings)}')"
   ]
  },
  {
   "cell_type": "code",
   "execution_count": 22,
   "metadata": {},
   "outputs": [
    {
     "name": "stdout",
     "output_type": "stream",
     "text": [
      "max fear rating: 1.0\n",
      "min fear rating: 0.0\n",
      "mean fear rating: 0.1575907590759076\n",
      "sem fear rating: 0.2555125531262493\n"
     ]
    }
   ],
   "source": [
    "fear_ratings = raw_df[(raw_df['video_num']>13) & (raw_df['video_num']<25)]['how_fearful']\n",
    "print(f'max fear rating: {max(fear_ratings)}')\n",
    "print(f'min fear rating: {min(fear_ratings)}')\n",
    "print(f'mean fear rating: {np.mean(fear_ratings)}')\n",
    "print(f'sem fear rating: {np.std(fear_ratings)}')"
   ]
  },
  {
   "cell_type": "markdown",
   "metadata": {},
   "source": [
    "# Spiders:"
   ]
  },
  {
   "cell_type": "code",
   "execution_count": 23,
   "metadata": {},
   "outputs": [
    {
     "data": {
      "image/png": "[encoded data removed]",
      "text/plain": [
       "<Figure size 432x288 with 1 Axes>"
      ]
     },
     "metadata": {
      "needs_background": "light"
     },
     "output_type": "display_data"
    },
    {
     "name": "stdout",
     "output_type": "stream",
     "text": [
      "max fear rating: 0.5709570957095708\n",
      "min fear rating: 0.2516501650165016\n",
      "mean fear rating: 0.4284928492849285\n",
      "sem fear rating: 0.126002973193426\n"
     ]
    }
   ],
   "source": [
    "plot_df = df[df['video_num']>24]\n",
    "\n",
    "fear_ratings = np.sort(plot_df.fear)\n",
    "error = plot_df.fear_std\n",
    "x_pos = np.arange(len(fear_ratings))\n",
    "\n",
    "fig, ax = plt.subplots()\n",
    "ax.bar(x_pos,fear_ratings, yerr=error, align='center', alpha=0.5, ecolor='black', capsize=0, color='b')\n",
    "ax.set_ylabel('Fear ratings')\n",
    "ax.set_xticks(x_pos)\n",
    "ax.set_xticklabels(x_pos)\n",
    "ax.yaxis.grid(False)\n",
    "\n",
    "# Save the figure and show\n",
    "plt.tight_layout()\n",
    "# plt.savefig('bar_plot_with_error_bars.png')\n",
    "plt.show()\n",
    "\n",
    "print(f'max fear rating: {max(fear_ratings)}')\n",
    "print(f'min fear rating: {min(fear_ratings)}')\n",
    "print(f'mean fear rating: {np.mean(fear_ratings)}')\n",
    "print(f'sem fear rating: {np.std(fear_ratings)}')"
   ]
  },
  {
   "cell_type": "code",
   "execution_count": 24,
   "metadata": {},
   "outputs": [
    {
     "name": "stdout",
     "output_type": "stream",
     "text": [
      "max fear rating: 1.0\n",
      "min fear rating: 0.0\n",
      "mean fear rating: 0.4284928492849284\n",
      "sem fear rating: 0.3521861140028503\n"
     ]
    }
   ],
   "source": [
    "fear_ratings = raw_df[raw_df['video_num']>24]['how_fearful']\n",
    "print(f'max fear rating: {max(fear_ratings)}')\n",
    "print(f'min fear rating: {min(fear_ratings)}')\n",
    "print(f'mean fear rating: {np.mean(fear_ratings)}')\n",
    "print(f'sem fear rating: {np.std(fear_ratings)}')"
   ]
  },
  {
   "cell_type": "code",
   "execution_count": null,
   "metadata": {},
   "outputs": [],
   "source": []
  },
  {
   "cell_type": "code",
   "execution_count": null,
   "metadata": {},
   "outputs": [],
   "source": []
  }
 ],
 "metadata": {
  "kernelspec": {
   "display_name": "Python 3",
   "language": "python",
   "name": "python3"
  },
  "language_info": {
   "codemirror_mode": {
    "name": "ipython",
    "version": 3
   },
   "file_extension": ".py",
   "mimetype": "text/x-python",
   "name": "python",
   "nbconvert_exporter": "python",
   "pygments_lexer": "ipython3",
   "version": "3.6.13"
  }
 },
 "nbformat": 4,
 "nbformat_minor": 4
}
